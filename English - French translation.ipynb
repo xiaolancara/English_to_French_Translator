{
 "cells": [
  {
   "cell_type": "markdown",
   "id": "e3c59d16-b782-476a-97f7-31b9273492b9",
   "metadata": {},
   "source": [
    "## English - French Translation\n",
    "\n",
    "This project uses English and french text data to train\n",
    "- Train X: English\n",
    "- Target y: French\n",
    "\n",
    "Since words in English and French are split by space that they have same format in language, I decided to use these two languages to make a translator.\n",
    "\n",
    "The RNN with Embedding model performs 92% accuracy.\n",
    "\n",
    "(This project can use in Spanish Language too!)\n",
    "\n",
    "(I tried to use it on chinese Language bu using tokenized package `jieba` but it performs not good. It may depend on the dataset and the language structure of chinese.)"
   ]
  },
  {
   "cell_type": "code",
   "execution_count": 1,
   "id": "f147ef9d-4b94-4873-9288-254783337458",
   "metadata": {},
   "outputs": [],
   "source": [
    "%load_ext autoreload\n",
    "%aimport helper\n",
    "%autoreload 1"
   ]
  },
  {
   "cell_type": "code",
   "execution_count": 2,
   "id": "0617e112-f91c-49e5-858e-52eff8f085f0",
   "metadata": {},
   "outputs": [],
   "source": [
    "import collections\n",
    "\n",
    "import helper\n",
    "import numpy as np\n",
    "#import jieba\n",
    "import re\n",
    "from keras.preprocessing.text import Tokenizer\n",
    "from keras.preprocessing.sequence import pad_sequences\n",
    "from keras.models import Model, Sequential\n",
    "from keras.layers import GRU, Input, Dense, TimeDistributed, Activation, RepeatVector, Bidirectional, Dropout, LSTM\n",
    "from keras.layers.embeddings import Embedding\n",
    "from tensorflow.keras.optimizers import Adam\n",
    "from keras.losses import sparse_categorical_crossentropy"
   ]
  },
  {
   "cell_type": "markdown",
   "id": "323cbf8d-1f33-4ee9-9e95-67c863769155",
   "metadata": {},
   "source": [
    "### Verify access to the GPU"
   ]
  },
  {
   "cell_type": "code",
   "execution_count": 3,
   "id": "137b1322-9b68-4f3a-a242-df81e59a9876",
   "metadata": {},
   "outputs": [
    {
     "name": "stdout",
     "output_type": "stream",
     "text": [
      "[name: \"/device:CPU:0\"\n",
      "device_type: \"CPU\"\n",
      "memory_limit: 268435456\n",
      "locality {\n",
      "}\n",
      "incarnation: 13326618518112060907\n",
      "]\n"
     ]
    }
   ],
   "source": [
    "from tensorflow.python.client import device_lib\n",
    "print(device_lib.list_local_devices())"
   ]
  },
  {
   "cell_type": "markdown",
   "id": "798d4dfa-9c64-4f5a-9a53-ab58ea25b137",
   "metadata": {},
   "source": [
    "## Dataset\n",
    "We begin by investigating the dataset that will be used to train and evaluate your pipeline.  The most common datasets used for machine translation are from [WMT](http://www.statmt.org/).  However, that will take a long time to train a neural network on.  We'll be using a dataset we created for this project that contains a small vocabulary.  You'll be able to train your model in a reasonable time with this dataset.\n",
    "### Load Data\n",
    "The data is located in `data/small_vocab_en` and `data/small_vocab_fr`. The `small_vocab_en` file contains English sentences with their french translations in the `small_vocab_fr` file. Load the English and french data from these files from running the cell below."
   ]
  },
  {
   "cell_type": "code",
   "execution_count": 4,
   "id": "4a57e1fa-f1fb-4177-8eac-a8b9fc481f0b",
   "metadata": {},
   "outputs": [
    {
     "name": "stdout",
     "output_type": "stream",
     "text": [
      "Dataset Loaded\n"
     ]
    }
   ],
   "source": [
    "# Load English data\n",
    "english_sentences = helper.load_data('data/small_vocab_en')\n",
    "# Load french data\n",
    "french_sentences = helper.load_data('data/small_vocab_fr')\n",
    "\n",
    "print('Dataset Loaded')"
   ]
  },
  {
   "cell_type": "markdown",
   "id": "8b99cf63-403e-471c-9d54-108bd4823596",
   "metadata": {},
   "source": [
    "### Files\n",
    "Each line in `small_vocab_en` contains an English sentence with the respective translation in each line of `small_vocab_fr`.  View the first two lines from each file."
   ]
  },
  {
   "cell_type": "code",
   "execution_count": 5,
   "id": "22d5a2ea-8c7a-4f6f-a28a-3e24c20ad249",
   "metadata": {},
   "outputs": [
    {
     "name": "stdout",
     "output_type": "stream",
     "text": [
      "English sample 1:  new jersey is sometimes quiet during autumn , and it is snowy in april .\n",
      "french sample 1:  new jersey est parfois calme pendant l' automne , et il est neigeux en avril .\n",
      "\n",
      "English sample 2:  the united states is usually chilly during july , and it is usually freezing in november .\n",
      "french sample 2:  les états-unis est généralement froid en juillet , et il gèle habituellement en novembre .\n",
      "\n",
      "English sample 3:  california is usually quiet during march , and it is usually hot in june .\n",
      "french sample 3:  california est généralement calme en mars , et il est généralement chaud en juin .\n",
      "\n",
      "English sample 4:  the united states is sometimes mild during june , and it is cold in september .\n",
      "french sample 4:  les états-unis est parfois légère en juin , et il fait froid en septembre .\n",
      "\n",
      "English sample 5:  your least liked fruit is the grape , but my least liked is the apple .\n",
      "french sample 5:  votre moins aimé fruit est le raisin , mais mon moins aimé est la pomme .\n",
      "\n"
     ]
    }
   ],
   "source": [
    "for sample_i in range(5):\n",
    "    print('English sample {}:  {}'.format(sample_i + 1, english_sentences[sample_i]))\n",
    "    print('french sample {}:  {}\\n'.format(sample_i + 1, french_sentences[sample_i]))"
   ]
  },
  {
   "cell_type": "markdown",
   "id": "ec0b4bde-21c0-4622-8414-eee137a9f703",
   "metadata": {},
   "source": [
    "From looking at the sentences, you can see they have been preprocessed already.  The puncuations have been delimited using spaces. All the text have been converted to lowercase.  This should save you some time, but the text requires more preprocessing.\n",
    "### Vocabulary\n",
    "The complexity of the problem is determined by the complexity of the vocabulary.  A more complex vocabulary is a more complex problem.  Let's look at the complexity of the dataset we'll be working with."
   ]
  },
  {
   "cell_type": "code",
   "execution_count": 6,
   "id": "797fa3e9-eb03-425d-bcd2-2b47e6138e6a",
   "metadata": {},
   "outputs": [
    {
     "name": "stdout",
     "output_type": "stream",
     "text": [
      "1823250 English words.\n",
      "227 unique English words.\n",
      "10 Most common words in the English dataset:\n",
      "\"is\" \",\" \".\" \"in\" \"it\" \"during\" \"the\" \"but\" \"and\" \"sometimes\"\n",
      "\n",
      "1961295 french words.\n",
      "355 unique french words.\n",
      "10 Most common words in the french dataset:\n",
      "\"est\" \".\" \",\" \"en\" \"il\" \"les\" \"mais\" \"et\" \"la\" \"parfois\"\n"
     ]
    }
   ],
   "source": [
    "english_words_counter = collections.Counter([word for sentence in english_sentences for word in sentence.split()])\n",
    "french_words_counter = collections.Counter([word for sentence in french_sentences for word in sentence.split()])\n",
    "\n",
    "# # used for chinese language to split the token\n",
    "# def splitKeyWord(str):\n",
    "#     regex = r\"[\\u4e00-\\ufaff]|[0-9]+|[a-zA-Z]+\\'*[a-z]*\"\n",
    "#     matches = re.findall(regex, str, re.UNICODE)\n",
    "#     return matches\n",
    "\n",
    "\n",
    "print('{} English words.'.format(len([word for sentence in english_sentences for word in sentence.split()])))\n",
    "print('{} unique English words.'.format(len(english_words_counter)))\n",
    "print('10 Most common words in the English dataset:')\n",
    "print('\"' + '\" \"'.join(list(zip(*english_words_counter.most_common(10)))[0]) + '\"')\n",
    "print()\n",
    "print('{} french words.'.format(len([word for sentence in french_sentences for word in sentence.split()]))) # [word for sentence in french_sentences for word in list(jieba.cut(sentence,use_paddle=True))]\n",
    "print('{} unique french words.'.format(len(french_words_counter)))\n",
    "print('10 Most common words in the french dataset:')\n",
    "print('\"' + '\" \"'.join(list(zip(*french_words_counter.most_common(10)))[0]) + '\"')"
   ]
  },
  {
   "cell_type": "code",
   "execution_count": 7,
   "id": "079b2b7e-228d-45de-92c7-15164fd3d0f1",
   "metadata": {},
   "outputs": [],
   "source": [
    "# strings = []\n",
    "# for sentence in french_sentences:\n",
    "#     string_ = ' '.join(list(jieba.cut(sentence,use_paddle=True)))# list(jieba.cut(sentence,use_paddle=True))\n",
    "#     string_ = string_.replace('，',',').replace('。','.').replace('“','\"').replace('”','\"').replace('（','(').replace('）',')').replace('、',',').replace('？','?')\n",
    "#     strings.append(string_)\n",
    "# french_sentences = strings  "
   ]
  },
  {
   "cell_type": "code",
   "execution_count": 8,
   "id": "f6474799-287f-434f-9b1f-0e7d39665cd8",
   "metadata": {},
   "outputs": [
    {
     "data": {
      "text/plain": [
       "[\"l'orange est son fruit préféré , mais la banane est votre favori .\", '']"
      ]
     },
     "execution_count": 8,
     "metadata": {},
     "output_type": "execute_result"
    }
   ],
   "source": [
    "french_sentences[-2:]"
   ]
  },
  {
   "cell_type": "markdown",
   "id": "0f832148-7c7e-42bc-8cbc-c93ddce77b44",
   "metadata": {},
   "source": [
    "For comparison, _Alice's Adventures in Wonderland_ contains 2,766 unique words of a total of 15,500 words.\n",
    "## Preprocess\n",
    "1. Tokenize the words into ids\n",
    "2. Add padding to make all the sequences the same length.\n",
    "\n",
    "\n",
    "### Tokenize (IMPLEMENTATION)\n",
    "For a neural network to predict on text data, it first has to be turned into data it can understand. Text data like \"dog\" is a sequence of ASCII character encodings.  Since a neural network is a series of multiplication and addition operations, the input data needs to be number(s).\n",
    "\n",
    "We can turn each character into a number or each word into a number.  These are called character and word ids, respectively.  Character ids are used for character level models that generate text predictions for each character.  A word level model uses word ids that generate text predictions for each word.  Word level models tend to learn better, since they are lower in complexity, so we'll use those.\n",
    "\n",
    "Turn each sentence into a sequence of words ids using Keras's [`Tokenizer`](https://keras.io/preprocessing/text/#tokenizer) function. Use this function to tokenize `english_sentences` and `french_sentences` in the cell below.\n",
    "\n",
    "Running the cell will run `tokenize` on sample data and show output for debugging."
   ]
  },
  {
   "cell_type": "code",
   "execution_count": 9,
   "id": "b7668d88-f4f2-4179-a72b-ce2e7acc71ec",
   "metadata": {},
   "outputs": [
    {
     "name": "stdout",
     "output_type": "stream",
     "text": [
      "{'a': 1, 'ella': 2, 'se': 3, 'me': 4, 'quedó': 5, 'mirando': 6, 'por': 7, 'un': 8, 'largo': 9, 'rato': 10, 'llegó': 11, 'la': 12, 'estación': 13, 'las': 14, 'siete': 15, 'this': 16, 'is': 17, 'short': 18, 'sentence': 19}\n",
      "\n",
      "Sequence 1 in x\n",
      "  Input:  Ella se me quedó mirando por un largo rato.\n",
      "  Output: [2, 3, 4, 5, 6, 7, 8, 9, 10]\n",
      "Sequence 2 in x\n",
      "  Input:  Ella llegó a la estación a las siete.\n",
      "  Output: [2, 11, 1, 12, 13, 1, 14, 15]\n",
      "Sequence 3 in x\n",
      "  Input:  This is a short sentence .\n",
      "  Output: [16, 17, 1, 18, 19]\n"
     ]
    }
   ],
   "source": [
    "def tokenize(x):\n",
    "    \"\"\"\n",
    "    Tokenize x\n",
    "    :param x: List of sentences/strings to be tokenized\n",
    "    :return: Tuple of (tokenized x data, tokenizer used to tokenize x)\n",
    "    \"\"\"\n",
    "    # TODO: Implement\n",
    "    tokenizer = Tokenizer()\n",
    "    tokenizer.fit_on_texts(x)\n",
    "    return tokenizer.texts_to_sequences(x), tokenizer\n",
    "\n",
    "# tests.test_tokenize(tokenize)\n",
    "\n",
    "# Tokenize Example output\n",
    "text_sentences = [\n",
    "    'Ella se me quedó mirando por un largo rato.',\n",
    "    'Ella llegó a la estación a las siete.',\n",
    "    'This is a short sentence .']\n",
    "text_tokenized, text_tokenizer = tokenize(text_sentences)\n",
    "print(text_tokenizer.word_index)\n",
    "print()\n",
    "for sample_i, (sent, token_sent) in enumerate(zip(text_sentences, text_tokenized)):\n",
    "    print('Sequence {} in x'.format(sample_i + 1))\n",
    "    print('  Input:  {}'.format(sent))\n",
    "    print('  Output: {}'.format(token_sent))"
   ]
  },
  {
   "cell_type": "markdown",
   "id": "05cebdef-11d1-48e1-ac25-43532737ed00",
   "metadata": {},
   "source": [
    "### Padding (IMPLEMENTATION)\n",
    "When batching the sequence of word ids together, each sequence needs to be the same length.  Since sentences are dynamic in length, we can add padding to the end of the sequences to make them the same length.\n",
    "\n",
    "Make sure all the English sequences have the same length and all the french sequences have the same length by adding padding to the **end** of each sequence using Keras's [`pad_sequences`](https://keras.io/preprocessing/sequence/#pad_sequences) function."
   ]
  },
  {
   "cell_type": "code",
   "execution_count": 10,
   "id": "0546ba1f-503d-4008-8839-b2f64a245116",
   "metadata": {},
   "outputs": [
    {
     "name": "stdout",
     "output_type": "stream",
     "text": [
      "Sequence 1 in x\n",
      "  Input:  [ 2  3  4  5  6  7  8  9 10]\n",
      "  Output: [ 2  3  4  5  6  7  8  9 10]\n",
      "Sequence 2 in x\n",
      "  Input:  [ 2 11  1 12 13  1 14 15]\n",
      "  Output: [ 2 11  1 12 13  1 14 15  0]\n",
      "Sequence 3 in x\n",
      "  Input:  [16 17  1 18 19]\n",
      "  Output: [16 17  1 18 19  0  0  0  0]\n"
     ]
    }
   ],
   "source": [
    "def pad(x, length=None):\n",
    "    \"\"\"\n",
    "    Pad x\n",
    "    :param x: List of sequences.\n",
    "    :param length: Length to pad the sequence to.  If None, use length of longest sequence in x.\n",
    "    :return: Padded numpy array of sequences\n",
    "    \"\"\"\n",
    "    # TODO: Implement\n",
    "    return pad_sequences(x, maxlen=length, padding='post')\n",
    "\n",
    "\n",
    "# Pad Tokenized output\n",
    "test_pad = pad(text_tokenized)\n",
    "for sample_i, (token_sent, pad_sent) in enumerate(zip(text_tokenized, test_pad)):\n",
    "    print('Sequence {} in x'.format(sample_i + 1))\n",
    "    print('  Input:  {}'.format(np.array(token_sent)))\n",
    "    print('  Output: {}'.format(pad_sent))"
   ]
  },
  {
   "cell_type": "markdown",
   "id": "8046236b-44ce-4a30-9fd1-b82500c12221",
   "metadata": {},
   "source": [
    "### Preprocess Pipeline\n",
    "Your focus for this project is to build neural network architecture, so we won't ask you to create a preprocess pipeline.  Instead, we've provided you with the implementation of the `preprocess` function."
   ]
  },
  {
   "cell_type": "code",
   "execution_count": 11,
   "id": "f113ef06-1269-4890-bdab-26cfccf3d7c2",
   "metadata": {},
   "outputs": [
    {
     "name": "stdout",
     "output_type": "stream",
     "text": [
      "Data Preprocessed\n",
      "Max English sentence length: 15\n",
      "Max french sentence length: 21\n",
      "English vocabulary size: 199\n",
      "french vocabulary size: 344\n"
     ]
    }
   ],
   "source": [
    "def preprocess(x, y):\n",
    "    \"\"\"\n",
    "    Preprocess x and y\n",
    "    :param x: Feature List of sentences\n",
    "    :param y: Label List of sentences\n",
    "    :return: Tuple of (Preprocessed x, Preprocessed y, x tokenizer, y tokenizer)\n",
    "    \"\"\"\n",
    "    preprocess_x, x_tk = tokenize(x)\n",
    "    preprocess_y, y_tk = tokenize(y)\n",
    "\n",
    "    preprocess_x = pad(preprocess_x)\n",
    "    preprocess_y = pad(preprocess_y)\n",
    "\n",
    "    # Keras's sparse_categorical_crossentropy function requires the labels to be in 3 dimensions\n",
    "    preprocess_y = preprocess_y.reshape(*preprocess_y.shape, 1)\n",
    "\n",
    "    return preprocess_x, preprocess_y, x_tk, y_tk\n",
    "\n",
    "preproc_english_sentences, preproc_french_sentences, english_tokenizer, french_tokenizer =\\\n",
    "    preprocess(english_sentences, french_sentences)\n",
    "    \n",
    "max_english_sequence_length = preproc_english_sentences.shape[1]\n",
    "max_french_sequence_length = preproc_french_sentences.shape[1]\n",
    "english_vocab_size = len(english_tokenizer.word_index)\n",
    "french_vocab_size = len(french_tokenizer.word_index)\n",
    "\n",
    "print('Data Preprocessed')\n",
    "print(\"Max English sentence length:\", max_english_sequence_length)\n",
    "print(\"Max french sentence length:\", max_french_sequence_length)\n",
    "print(\"English vocabulary size:\", english_vocab_size)\n",
    "print(\"french vocabulary size:\", french_vocab_size)"
   ]
  },
  {
   "cell_type": "code",
   "execution_count": 12,
   "id": "abbf2486-0f26-4b23-b31f-d6b9b26b908e",
   "metadata": {},
   "outputs": [
    {
     "data": {
      "text/plain": [
       "(137861, 15)"
      ]
     },
     "execution_count": 12,
     "metadata": {},
     "output_type": "execute_result"
    }
   ],
   "source": [
    "preproc_english_sentences.shape"
   ]
  },
  {
   "cell_type": "code",
   "execution_count": 13,
   "id": "632d4591-d24d-4f08-a22b-55a559ed02c0",
   "metadata": {},
   "outputs": [
    {
     "data": {
      "text/plain": [
       "(137861, 21, 1)"
      ]
     },
     "execution_count": 13,
     "metadata": {},
     "output_type": "execute_result"
    }
   ],
   "source": [
    "preproc_french_sentences.shape"
   ]
  },
  {
   "cell_type": "markdown",
   "id": "1c9837c1-dc66-48fd-aa76-ad1c71af6b88",
   "metadata": {},
   "source": [
    "## Models\n",
    "\n",
    "- Model 1 is a simple RNN\n",
    "- Model 2 is a RNN with Embedding\n",
    "\n",
    "### Ids Back to Text\n",
    "The neural network will be translating the input to words ids, which isn't the final form we want.  We want the french translation.  The function `logits_to_text` will bridge the gab between the logits from the neural network to the french translation.  You'll be using this function to better understand the output of the neural network."
   ]
  },
  {
   "cell_type": "code",
   "execution_count": 14,
   "id": "81546381-e740-4ba5-8825-182bcf0e2f33",
   "metadata": {},
   "outputs": [
    {
     "name": "stdout",
     "output_type": "stream",
     "text": [
      "`logits_to_text` function loaded.\n"
     ]
    }
   ],
   "source": [
    "def logits_to_text(logits, tokenizer):\n",
    "    \"\"\"\n",
    "    Turn logits from a neural network into text using the tokenizer\n",
    "    :param logits: Logits from a neural network\n",
    "    :param tokenizer: Keras Tokenizer fit on the labels\n",
    "    :return: String that represents the text of the logits\n",
    "    \"\"\"\n",
    "    index_to_words = {id: word for word, id in tokenizer.word_index.items()}\n",
    "    index_to_words[0] = '<PAD>'\n",
    "\n",
    "    return ' '.join([index_to_words[prediction] for prediction in np.argmax(logits, 1)])\n",
    "\n",
    "print('`logits_to_text` function loaded.')"
   ]
  },
  {
   "cell_type": "markdown",
   "id": "3b903ac9-7196-48e5-a5ac-d74cae9e4fb7",
   "metadata": {},
   "source": [
    "### Model 1: RNN (IMPLEMENTATION)\n"
   ]
  },
  {
   "cell_type": "code",
   "execution_count": 54,
   "id": "bc811127-c29f-4a9a-8f54-79353fc2d8d2",
   "metadata": {},
   "outputs": [
    {
     "name": "stdout",
     "output_type": "stream",
     "text": [
      "Model: \"sequential_2\"\n",
      "_________________________________________________________________\n",
      "Layer (type)                 Output Shape              Param #   \n",
      "=================================================================\n",
      "gru_2 (GRU)                  (None, 21, 100)           30900     \n",
      "_________________________________________________________________\n",
      "time_distributed_4 (TimeDist (None, 21, 200)           20200     \n",
      "_________________________________________________________________\n",
      "dropout_2 (Dropout)          (None, 21, 200)           0         \n",
      "_________________________________________________________________\n",
      "time_distributed_5 (TimeDist (None, 21, 345)           69345     \n",
      "=================================================================\n",
      "Total params: 120,445\n",
      "Trainable params: 120,445\n",
      "Non-trainable params: 0\n",
      "_________________________________________________________________\n",
      "None\n",
      "Epoch 1/10\n",
      "221/221 [==============================] - 35s 148ms/step - loss: 1.8873 - accuracy: 0.5516 - val_loss: 1.3115 - val_accuracy: 0.6270\n",
      "Epoch 2/10\n",
      "221/221 [==============================] - 32s 146ms/step - loss: 1.2965 - accuracy: 0.6307 - val_loss: 1.1331 - val_accuracy: 0.6682\n",
      "Epoch 3/10\n",
      "221/221 [==============================] - 32s 144ms/step - loss: 1.1739 - accuracy: 0.6542 - val_loss: 1.0384 - val_accuracy: 0.6829\n",
      "Epoch 4/10\n",
      "221/221 [==============================] - 42s 189ms/step - loss: 1.1030 - accuracy: 0.6668 - val_loss: 0.9790 - val_accuracy: 0.6931\n",
      "Epoch 5/10\n",
      "221/221 [==============================] - 40s 180ms/step - loss: 1.0538 - accuracy: 0.6757 - val_loss: 0.9372 - val_accuracy: 0.7015\n",
      "Epoch 6/10\n",
      "221/221 [==============================] - 38s 173ms/step - loss: 1.0133 - accuracy: 0.6845 - val_loss: 0.9153 - val_accuracy: 0.6981\n",
      "Epoch 7/10\n",
      "221/221 [==============================] - 41s 186ms/step - loss: 0.9835 - accuracy: 0.6897 - val_loss: 0.8764 - val_accuracy: 0.7156\n",
      "Epoch 8/10\n",
      "221/221 [==============================] - 40s 180ms/step - loss: 0.9532 - accuracy: 0.6981 - val_loss: 0.8518 - val_accuracy: 0.7115\n",
      "Epoch 9/10\n",
      "221/221 [==============================] - 39s 176ms/step - loss: 0.9351 - accuracy: 0.7026 - val_loss: 0.8269 - val_accuracy: 0.7259\n",
      "Epoch 10/10\n",
      "221/221 [==============================] - 40s 179ms/step - loss: 0.9059 - accuracy: 0.7106 - val_loss: 0.7983 - val_accuracy: 0.7344\n"
     ]
    }
   ],
   "source": [
    "def simple_model(input_shape, output_sequence_length, english_vocab_size, french_vocab_size):\n",
    "    \"\"\"\n",
    "    Build and train a basic RNN on x and y\n",
    "    :param input_shape: Tuple of input shape\n",
    "    :param output_sequence_length: Length of output sequence\n",
    "    :param english_vocab_size: Number of unique English words in the dataset\n",
    "    :param french_vocab_size: Number of unique french words in the dataset\n",
    "    :return: Keras model built, but not trained\n",
    "    \"\"\"\n",
    "    # Hyperparameters\n",
    "    learning_rate = 0.005\n",
    "    \n",
    "    # TODO: Build the layers\n",
    "    model = Sequential()\n",
    "    model.add(GRU(100, input_shape=input_shape[1:], return_sequences=True))\n",
    "    model.add(TimeDistributed(Dense(200, activation='relu')))\n",
    "    model.add(Dropout(0.5))\n",
    "    model.add(TimeDistributed(Dense(french_vocab_size+1, activation='softmax'))) \n",
    "\n",
    "    # Compile model\n",
    "    model.compile(loss=sparse_categorical_crossentropy,\n",
    "                  optimizer=Adam(learning_rate),\n",
    "                  metrics=['accuracy'])\n",
    "    return model\n",
    "\n",
    "\n",
    "# Reshaping the input to work with a basic RNN\n",
    "tmp_x = pad(preproc_english_sentences, max_french_sequence_length)\n",
    "tmp_x = tmp_x.reshape((-1, preproc_french_sentences.shape[-2], 1))\n",
    "\n",
    "# Train the neural network\n",
    "simple_rnn_model = simple_model(\n",
    "    tmp_x.shape,\n",
    "    max_french_sequence_length,\n",
    "    english_vocab_size,\n",
    "    french_vocab_size)\n",
    "\n",
    "print(simple_rnn_model.summary())\n",
    "\n",
    "history = simple_rnn_model.fit(tmp_x, preproc_french_sentences, batch_size=500, verbose=1, epochs=10, validation_split=0.2)\n"
   ]
  },
  {
   "cell_type": "code",
   "execution_count": 16,
   "id": "00c7663a-561e-4ec2-aef2-543ebbad5f0f",
   "metadata": {},
   "outputs": [
    {
     "data": {
      "image/png": "[encoded data removed]",
      "text/plain": [
       "<IPython.core.display.Image object>"
      ]
     },
     "execution_count": 16,
     "metadata": {},
     "output_type": "execute_result"
    }
   ],
   "source": [
    "from tensorflow.keras.utils import plot_model\n",
    "plot_model(simple_rnn_model, to_file='simple_rnn_model.png', show_shapes=True, show_layer_names=True)"
   ]
  },
  {
   "cell_type": "code",
   "execution_count": 17,
   "id": "f450f90e-d71d-4f3c-9b20-b9497fe558f3",
   "metadata": {},
   "outputs": [
    {
     "name": "stdout",
     "output_type": "stream",
     "text": [
      "Prediction:\n",
      "new jersey est parfois calme en mois de il et est est en en <PAD> <PAD> <PAD> <PAD> <PAD> <PAD> <PAD>\n",
      "\n",
      "Correct Translation:\n",
      "[\"new jersey est parfois calme pendant l' automne , et il est neigeux en avril .\"]\n",
      "\n",
      "Original text:\n",
      "['new jersey is sometimes quiet during autumn , and it is snowy in april .']\n"
     ]
    }
   ],
   "source": [
    "# Print prediction(s)\n",
    "print(\"Prediction:\")\n",
    "print(logits_to_text(simple_rnn_model.predict(tmp_x[:1])[0], french_tokenizer))\n",
    "\n",
    "print(\"\\nCorrect Translation:\")\n",
    "print(french_sentences[:1])\n",
    "\n",
    "print(\"\\nOriginal text:\")\n",
    "print(english_sentences[:1])"
   ]
  },
  {
   "cell_type": "markdown",
   "id": "aea64e15-c19f-47a5-8b5e-c6dcd8bc7de2",
   "metadata": {},
   "source": [
    "### Model 2: RNN with Embedding (IMPLEMENTATION)"
   ]
  },
  {
   "cell_type": "code",
   "execution_count": 20,
   "id": "b3389f8f-233a-4c5f-aa99-60e4530d86e5",
   "metadata": {},
   "outputs": [
    {
     "name": "stdout",
     "output_type": "stream",
     "text": [
      "Model: \"sequential_1\"\n",
      "_________________________________________________________________\n",
      "Layer (type)                 Output Shape              Param #   \n",
      "=================================================================\n",
      "embedding (Embedding)        (None, 21, 256)           51200     \n",
      "_________________________________________________________________\n",
      "gru_1 (GRU)                  (None, 21, 100)           107400    \n",
      "_________________________________________________________________\n",
      "time_distributed_2 (TimeDist (None, 21, 200)           20200     \n",
      "_________________________________________________________________\n",
      "dropout_1 (Dropout)          (None, 21, 200)           0         \n",
      "_________________________________________________________________\n",
      "time_distributed_3 (TimeDist (None, 21, 346)           69546     \n",
      "=================================================================\n",
      "Total params: 248,346\n",
      "Trainable params: 248,346\n",
      "Non-trainable params: 0\n",
      "_________________________________________________________________\n",
      "Epoch 1/10\n",
      "221/221 [==============================] - 53s 232ms/step - loss: 1.2637 - accuracy: 0.6934 - val_loss: 0.4959 - val_accuracy: 0.8412\n",
      "Epoch 2/10\n",
      "221/221 [==============================] - 49s 224ms/step - loss: 0.4644 - accuracy: 0.8538 - val_loss: 0.3313 - val_accuracy: 0.8917\n",
      "Epoch 3/10\n",
      "221/221 [==============================] - 50s 229ms/step - loss: 0.3528 - accuracy: 0.8880 - val_loss: 0.2804 - val_accuracy: 0.9075\n",
      "Epoch 4/10\n",
      "221/221 [==============================] - 50s 227ms/step - loss: 0.3080 - accuracy: 0.9013 - val_loss: 0.2579 - val_accuracy: 0.9146\n",
      "Epoch 5/10\n",
      "221/221 [==============================] - 49s 223ms/step - loss: 0.2789 - accuracy: 0.9098 - val_loss: 0.2366 - val_accuracy: 0.9212\n",
      "Epoch 6/10\n",
      "221/221 [==============================] - 50s 226ms/step - loss: 0.2625 - accuracy: 0.9146 - val_loss: 0.2241 - val_accuracy: 0.9247\n",
      "Epoch 7/10\n",
      "221/221 [==============================] - 51s 230ms/step - loss: 0.2507 - accuracy: 0.9180 - val_loss: 0.2207 - val_accuracy: 0.9272\n",
      "Epoch 8/10\n",
      "221/221 [==============================] - 51s 231ms/step - loss: 0.2431 - accuracy: 0.9204 - val_loss: 0.2151 - val_accuracy: 0.9270\n",
      "Epoch 9/10\n",
      "221/221 [==============================] - 54s 244ms/step - loss: 0.2394 - accuracy: 0.9212 - val_loss: 0.2160 - val_accuracy: 0.9280\n",
      "Epoch 10/10\n",
      "221/221 [==============================] - 57s 257ms/step - loss: 0.2356 - accuracy: 0.9223 - val_loss: 0.2110 - val_accuracy: 0.9297\n"
     ]
    }
   ],
   "source": [
    "def embed_model(input_shape, output_sequence_length, english_vocab_size, french_vocab_size):\n",
    "    \"\"\"\n",
    "    Build and train a RNN model using word embedding on x and y\n",
    "    :param input_shape: Tuple of input shape\n",
    "    :param output_sequence_length: Length of output sequence\n",
    "    :param english_vocab_size: Number of unique English words in the dataset\n",
    "    :param french_vocab_size: Number of unique french words in the dataset\n",
    "    :return: Keras model built, but not trained\n",
    "    \"\"\"\n",
    "    # TODO: Implement\n",
    "\n",
    "    # Hyperparameters\n",
    "    learning_rate = 0.005\n",
    "    \n",
    "    # TODO: Build the layers\n",
    "    model = Sequential()\n",
    "    model.add(Embedding(english_vocab_size, 256, input_length=input_shape[1], input_shape=input_shape[1:]))\n",
    "    model.add(GRU(100, return_sequences=True))    \n",
    "    model.add(TimeDistributed(Dense(200, activation='relu')))\n",
    "    model.add(Dropout(0.5))\n",
    "    model.add(TimeDistributed(Dense(french_vocab_size+1, activation='softmax'))) \n",
    "\n",
    "    # Compile model\n",
    "    model.compile(loss=sparse_categorical_crossentropy,\n",
    "                  optimizer=Adam(learning_rate),\n",
    "                  metrics=['accuracy'])\n",
    "    return model\n",
    "\n",
    "#tests.test_embed_model(embed_model)\n",
    "\n",
    "# TODO: Reshape the input\n",
    "tmp_x = pad(preproc_english_sentences, preproc_french_sentences.shape[1])\n",
    "tmp_x = tmp_x.reshape((-1, preproc_french_sentences.shape[-2]))\n",
    "\n",
    "# TODO: Train the neural network\n",
    "embed_rnn_model = embed_model(\n",
    "    tmp_x.shape,\n",
    "    preproc_french_sentences.shape[1],\n",
    "    len(english_tokenizer.word_index)+1,\n",
    "    len(french_tokenizer.word_index)+1)\n",
    "\n",
    "embed_rnn_model.summary()\n",
    "\n",
    "history = embed_rnn_model.fit(tmp_x, preproc_french_sentences, batch_size=500, epochs=10, validation_split=0.2)\n",
    "\n"
   ]
  },
  {
   "cell_type": "code",
   "execution_count": 21,
   "id": "6179e83d-220c-4921-8fb4-0940fc16e809",
   "metadata": {},
   "outputs": [
    {
     "data": {
      "image/png": "[encoded data removed]",
      "text/plain": [
       "<Figure size 432x288 with 1 Axes>"
      ]
     },
     "metadata": {
      "needs_background": "light"
     },
     "output_type": "display_data"
    },
    {
     "data": {
      "image/png": "[encoded data removed]",
      "text/plain": [
       "<Figure size 432x288 with 1 Axes>"
      ]
     },
     "metadata": {
      "needs_background": "light"
     },
     "output_type": "display_data"
    }
   ],
   "source": [
    "import matplotlib.pyplot as plt\n",
    "%matplotlib inline\n",
    "\n",
    "# Plot training & validation accuracy values\n",
    "plt.plot(history.history['accuracy'])\n",
    "plt.plot(history.history['val_accuracy'])\n",
    "plt.title('Model accuracy')\n",
    "plt.ylabel('Accuracy')\n",
    "plt.xlabel('Epoch')\n",
    "plt.legend(['Train', 'Validation'], loc='upper left')\n",
    "plt.show()\n",
    "\n",
    "# Plot training & validation loss values\n",
    "plt.plot(history.history['loss'])\n",
    "plt.plot(history.history['val_loss'])\n",
    "plt.title('Model loss')\n",
    "plt.ylabel('Loss')\n",
    "plt.xlabel('Epoch')\n",
    "plt.legend(['Train', 'Validation'], loc='upper left')\n",
    "plt.show()"
   ]
  },
  {
   "cell_type": "code",
   "execution_count": 22,
   "id": "5c4c98fb-2a45-487c-9609-df91cf541067",
   "metadata": {},
   "outputs": [
    {
     "data": {
      "image/png": "[encoded data removed]",
      "text/plain": [
       "<IPython.core.display.Image object>"
      ]
     },
     "execution_count": 22,
     "metadata": {},
     "output_type": "execute_result"
    }
   ],
   "source": [
    "from tensorflow.keras.utils import plot_model\n",
    "plot_model(embed_rnn_model, to_file='embed_rnn_model.png', show_shapes=True, show_layer_names=True)"
   ]
  },
  {
   "cell_type": "code",
   "execution_count": 47,
   "id": "d785d6d5-6f35-47d8-ae9d-fb37f5b6f8d1",
   "metadata": {},
   "outputs": [
    {
     "name": "stdout",
     "output_type": "stream",
     "text": [
      "Prediction:\n"
     ]
    },
    {
     "data": {
      "text/html": [
       "<div>\n",
       "<style scoped>\n",
       "    .dataframe tbody tr th:only-of-type {\n",
       "        vertical-align: middle;\n",
       "    }\n",
       "\n",
       "    .dataframe tbody tr th {\n",
       "        vertical-align: top;\n",
       "    }\n",
       "\n",
       "    .dataframe thead th {\n",
       "        text-align: right;\n",
       "    }\n",
       "</style>\n",
       "<table border=\"1\" class=\"dataframe\">\n",
       "  <thead>\n",
       "    <tr style=\"text-align: right;\">\n",
       "      <th></th>\n",
       "      <th>orig_text</th>\n",
       "      <th>correct_translate</th>\n",
       "      <th>pred_translate</th>\n",
       "    </tr>\n",
       "  </thead>\n",
       "  <tbody>\n",
       "    <tr>\n",
       "      <th>0</th>\n",
       "      <td>new jersey is sometimes quiet during autumn , ...</td>\n",
       "      <td>new jersey est parfois calme pendant l' automn...</td>\n",
       "      <td>new jersey est parfois calme en l' automne et ...</td>\n",
       "    </tr>\n",
       "    <tr>\n",
       "      <th>1</th>\n",
       "      <td>the united states is usually chilly during jul...</td>\n",
       "      <td>les états-unis est généralement froid en juill...</td>\n",
       "      <td>les états unis est généralement froid en juill...</td>\n",
       "    </tr>\n",
       "    <tr>\n",
       "      <th>2</th>\n",
       "      <td>california is usually quiet during march , and...</td>\n",
       "      <td>california est généralement calme en mars , et...</td>\n",
       "      <td>californie est généralement calme en mois et i...</td>\n",
       "    </tr>\n",
       "    <tr>\n",
       "      <th>3</th>\n",
       "      <td>the united states is sometimes mild during jun...</td>\n",
       "      <td>les états-unis est parfois légère en juin , et...</td>\n",
       "      <td>les états unis est parfois doux en juin et il ...</td>\n",
       "    </tr>\n",
       "    <tr>\n",
       "      <th>4</th>\n",
       "      <td>your least liked fruit is the grape , but my l...</td>\n",
       "      <td>votre moins aimé fruit est le raisin , mais mo...</td>\n",
       "      <td>votre fruit aimé des est la raisin mais mon mo...</td>\n",
       "    </tr>\n",
       "    <tr>\n",
       "      <th>5</th>\n",
       "      <td>his favorite fruit is the orange , but my favo...</td>\n",
       "      <td>son fruit préféré est l'orange , mais mon préf...</td>\n",
       "      <td>son fruit préféré est la mais son préféré est ...</td>\n",
       "    </tr>\n",
       "    <tr>\n",
       "      <th>6</th>\n",
       "      <td>paris is relaxing during december , but it is ...</td>\n",
       "      <td>paris est relaxant en décembre , mais il est g...</td>\n",
       "      <td>paris est relaxant en décembre mais il est gén...</td>\n",
       "    </tr>\n",
       "    <tr>\n",
       "      <th>7</th>\n",
       "      <td>new jersey is busy during spring , and it is n...</td>\n",
       "      <td>new jersey est occupé au printemps , et il est...</td>\n",
       "      <td>new jersey est occupé en printemps et il est j...</td>\n",
       "    </tr>\n",
       "    <tr>\n",
       "      <th>8</th>\n",
       "      <td>our least liked fruit is the lemon , but my le...</td>\n",
       "      <td>notre fruit est moins aimé le citron , mais mo...</td>\n",
       "      <td>notre fruit aimé fruit est la citron mais mon ...</td>\n",
       "    </tr>\n",
       "    <tr>\n",
       "      <th>9</th>\n",
       "      <td>the united states is sometimes busy during jan...</td>\n",
       "      <td>les états-unis est parfois occupé en janvier ,...</td>\n",
       "      <td>les états unis est parfois occupé en janvier e...</td>\n",
       "    </tr>\n",
       "  </tbody>\n",
       "</table>\n",
       "</div>"
      ],
      "text/plain": [
       "                                           orig_text  \\\n",
       "0  new jersey is sometimes quiet during autumn , ...   \n",
       "1  the united states is usually chilly during jul...   \n",
       "2  california is usually quiet during march , and...   \n",
       "3  the united states is sometimes mild during jun...   \n",
       "4  your least liked fruit is the grape , but my l...   \n",
       "5  his favorite fruit is the orange , but my favo...   \n",
       "6  paris is relaxing during december , but it is ...   \n",
       "7  new jersey is busy during spring , and it is n...   \n",
       "8  our least liked fruit is the lemon , but my le...   \n",
       "9  the united states is sometimes busy during jan...   \n",
       "\n",
       "                                   correct_translate  \\\n",
       "0  new jersey est parfois calme pendant l' automn...   \n",
       "1  les états-unis est généralement froid en juill...   \n",
       "2  california est généralement calme en mars , et...   \n",
       "3  les états-unis est parfois légère en juin , et...   \n",
       "4  votre moins aimé fruit est le raisin , mais mo...   \n",
       "5  son fruit préféré est l'orange , mais mon préf...   \n",
       "6  paris est relaxant en décembre , mais il est g...   \n",
       "7  new jersey est occupé au printemps , et il est...   \n",
       "8  notre fruit est moins aimé le citron , mais mo...   \n",
       "9  les états-unis est parfois occupé en janvier ,...   \n",
       "\n",
       "                                      pred_translate  \n",
       "0  new jersey est parfois calme en l' automne et ...  \n",
       "1  les états unis est généralement froid en juill...  \n",
       "2  californie est généralement calme en mois et i...  \n",
       "3  les états unis est parfois doux en juin et il ...  \n",
       "4  votre fruit aimé des est la raisin mais mon mo...  \n",
       "5  son fruit préféré est la mais son préféré est ...  \n",
       "6  paris est relaxant en décembre mais il est gén...  \n",
       "7  new jersey est occupé en printemps et il est j...  \n",
       "8  notre fruit aimé fruit est la citron mais mon ...  \n",
       "9  les états unis est parfois occupé en janvier e...  "
      ]
     },
     "execution_count": 47,
     "metadata": {},
     "output_type": "execute_result"
    }
   ],
   "source": [
    "# Print prediction(s)\n",
    "print(\"Prediction:\")\n",
    "\n",
    "df_data = {}\n",
    "for i in range(10):\n",
    "    pred = logits_to_text(embed_rnn_model.predict(tmp_x[:i+1])[i], french_tokenizer)\n",
    "    correct_translate = french_sentences[i]\n",
    "    orig_text = english_sentences[i]\n",
    "    df_data[i] = [orig_text, correct_translate, pred]\n",
    "    \n",
    "import pandas as pd\n",
    "result = pd.DataFrame(df_data).T\n",
    "result.columns = ['orig_text', 'correct_translate', 'pred_translate']\n",
    "result"
   ]
  },
  {
   "cell_type": "markdown",
   "id": "eec9066c-96d5-4fd9-931b-f4a9576b061b",
   "metadata": {},
   "source": [
    "### Pick words to generate a sentence to predict"
   ]
  },
  {
   "cell_type": "code",
   "execution_count": 18,
   "id": "ab7371b2-3b88-4a68-a487-f1b3f81ad231",
   "metadata": {},
   "outputs": [
    {
     "data": {
      "text/plain": [
       "dict_keys(['is', 'in', 'it', 'during', 'the', 'but', 'and', 'sometimes', 'usually', 'never', 'favorite', 'least', 'fruit', 'most', 'loved', 'liked', 'new', 'paris', 'india', 'united', 'states', 'california', 'jersey', 'france', 'china', 'he', 'she', 'grapefruit', 'your', 'my', 'his', 'her', 'fall', 'june', 'spring', 'january', 'winter', 'march', 'autumn', 'may', 'nice', 'september', 'july', 'april', 'november', 'summer', 'december', 'february', 'our', 'their', 'freezing', 'pleasant', 'beautiful', 'october', 'snowy', 'warm', 'cold', 'wonderful', 'dry', 'busy', 'august', 'chilly', 'rainy', 'mild', 'wet', 'relaxing', 'quiet', 'hot', 'dislikes', 'likes', 'limes', 'lemons', 'grapes', 'mangoes', 'apples', 'peaches', 'oranges', 'pears', 'strawberries', 'bananas', 'to', 'grape', 'apple', 'orange', 'lemon', 'lime', 'banana', 'mango', 'pear', 'strawberry', 'peach', 'like', 'dislike', 'they', 'that', 'i', 'we', 'you', 'animal', 'a', 'truck', 'car', 'automobile', 'was', 'next', 'go', 'driving', 'visit', 'little', 'big', 'old', 'yellow', 'red', 'rusty', 'blue', 'white', 'black', 'green', 'shiny', 'are', 'last', 'feared', 'animals', 'this', 'plan', 'going', 'saw', 'disliked', 'drives', 'drove', 'between', 'translate', 'plans', 'were', 'went', 'might', 'wanted', 'thinks', 'spanish', 'portuguese', 'chinese', 'english', 'french', 'translating', 'difficult', 'fun', 'easy', 'wants', 'think', 'why', \"it's\", 'did', 'cat', 'shark', 'bird', 'mouse', 'horse', 'elephant', 'dog', 'monkey', 'lion', 'bear', 'rabbit', 'snake', 'when', 'want', 'do', 'how', 'elephants', 'horses', 'dogs', 'sharks', 'snakes', 'cats', 'rabbits', 'monkeys', 'bears', 'birds', 'lions', 'mice', \"didn't\", 'eiffel', 'tower', 'grocery', 'store', 'football', 'field', 'lake', 'school', 'would', \"aren't\", 'been', 'weather', 'does', 'has', \"isn't\", 'am', 'where', 'have'])"
      ]
     },
     "execution_count": 18,
     "metadata": {},
     "output_type": "execute_result"
    }
   ],
   "source": [
    "english_tokenizer.word_index.keys()"
   ]
  },
  {
   "cell_type": "code",
   "execution_count": 34,
   "id": "540ad0f2-646a-4229-b873-a6e05663c4bd",
   "metadata": {},
   "outputs": [
    {
     "name": "stdout",
     "output_type": "stream",
     "text": [
      "il aime voiture voiture <PAD> <PAD> <PAD> <PAD> <PAD> <PAD> <PAD> <PAD> <PAD> <PAD> <PAD> <PAD> <PAD> <PAD> <PAD> <PAD> <PAD>\n",
      "Correct Translation: le gusta conducir a california\n"
     ]
    }
   ],
   "source": [
    "sentence = 'he likes driving to california'\n",
    "sentence = [english_tokenizer.word_index[word] for word in sentence.split()]\n",
    "tt = pad([sentence], max_french_sequence_length)\n",
    "tt = tt.reshape((-1, preproc_french_sentences.shape[-2], 1))\n",
    "predictions = embed_rnn_model.predict(tt)[0]\n",
    "print(logits_to_text(predictions, french_tokenizer))\n",
    "print('Correct Translation: le gusta conducir a california')"
   ]
  },
  {
   "cell_type": "code",
   "execution_count": 53,
   "id": "14ae69e1-84f8-4637-b326-0d5e3d7762ac",
   "metadata": {},
   "outputs": [
    {
     "name": "stdout",
     "output_type": "stream",
     "text": [
      "il est le le voiture <PAD> <PAD> <PAD> <PAD> <PAD> <PAD> <PAD> <PAD> <PAD> <PAD> <PAD> <PAD> <PAD> <PAD> <PAD> <PAD>\n"
     ]
    }
   ],
   "source": [
    "sentence = 'he usually drives his car'\n",
    "sentence = [english_tokenizer.word_index[word] for word in sentence.split()]\n",
    "tt = pad([sentence], max_french_sequence_length)\n",
    "tt = tt.reshape((-1, preproc_french_sentences.shape[-2], 1))\n",
    "predictions = embed_rnn_model.predict(tt)[0]\n",
    "print(logits_to_text(predictions, french_tokenizer))"
   ]
  },
  {
   "cell_type": "code",
   "execution_count": 55,
   "id": "dd90a7aa-2735-46f9-b6d1-315b8eb55e33",
   "metadata": {},
   "outputs": [],
   "source": [
    "print('correct Translation: il conduit habituellement sa voiture')"
   ]
  },
  {
   "cell_type": "code",
   "execution_count": null,
   "id": "285378c4-84e8-4834-9c3e-5faa5b603e80",
   "metadata": {},
   "outputs": [],
   "source": []
  }
 ],
 "metadata": {
  "kernelspec": {
   "display_name": "Python 3",
   "language": "python",
   "name": "python3"
  },
  "language_info": {
   "codemirror_mode": {
    "name": "ipython",
    "version": 3
   },
   "file_extension": ".py",
   "mimetype": "text/x-python",
   "name": "python",
   "nbconvert_exporter": "python",
   "pygments_lexer": "ipython3",
   "version": "3.8.8"
  }
 },
 "nbformat": 4,
 "nbformat_minor": 5
}
