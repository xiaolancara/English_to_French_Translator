{
 "cells": [
  {
   "cell_type": "code",
   "execution_count": 1,
   "id": "6b417e75-7130-4b96-a060-9cc0d18b7cee",
   "metadata": {},
   "outputs": [],
   "source": [
    "from PIL import Image\n",
    "from pytesseract import image_to_string\n",
    "#from text_preprocessing.py import preprocessing_zh, unicode_to_ascii\n",
    "import pytesseract\n",
    "import re"
   ]
  },
  {
   "cell_type": "code",
   "execution_count": 2,
   "id": "aab1c51b-f526-4e7c-9de1-4c6196c7e756",
   "metadata": {},
   "outputs": [],
   "source": [
    "pytesseract.pytesseract.tesseract_cmd = 'C:\\Program Files\\Tesseract-OCR\\\\tesseract.exe'"
   ]
  },
  {
   "cell_type": "code",
   "execution_count": 3,
   "id": "f3e2ea68-6012-473a-8fdd-dc6d646e0b61",
   "metadata": {},
   "outputs": [
    {
     "name": "stdout",
     "output_type": "stream",
     "text": [
      "[\"TexTNow now You're now connected\", 'Welcome to TextNow’s free cellular network', 'You now have access to free calling and texting everywhere', '']\n"
     ]
    }
   ],
   "source": [
    "def from_image_to_text(image):  # Input image is in English\n",
    "    im = Image.open(image)\n",
    "    text_im = image_to_string(im, lang='eng')\n",
    "    return text_im\n",
    "\n",
    "def create_dataset(data):\n",
    "    lines = data.replace('\\n',' ')\n",
    "    text = re.sub('[^a-zA-Z\\.\\?!\\\"\\'\\’0-9]+', ' ', lines) # remove useless symbols\n",
    "    sentences = re.split('[\\.\\?!]+', text) # split sentence in string\n",
    "    sentences = [re.sub(r'^\\s+','',sentence) for sentence in sentences] # remove leading space\n",
    "    return sentences\n",
    "\n",
    "if __name__ == \"__main__\":\n",
    "    mock_image = \"Notification.png\"\n",
    "    text_from_image = from_image_to_text(mock_image) #Scan image with Tesseract and extract the text as string\n",
    "    data = create_dataset(text_from_image)\n",
    "    print(data)"
   ]
  },
  {
   "cell_type": "code",
   "execution_count": null,
   "id": "66635582-15d2-4f79-8a0f-1bef9f2b35ab",
   "metadata": {},
   "outputs": [],
   "source": []
  }
 ],
 "metadata": {
  "kernelspec": {
   "display_name": "Python 3",
   "language": "python",
   "name": "python3"
  },
  "language_info": {
   "codemirror_mode": {
    "name": "ipython",
    "version": 3
   },
   "file_extension": ".py",
   "mimetype": "text/x-python",
   "name": "python",
   "nbconvert_exporter": "python",
   "pygments_lexer": "ipython3",
   "version": "3.8.8"
  }
 },
 "nbformat": 4,
 "nbformat_minor": 5
}
