{
 "cells": [
  {
   "cell_type": "code",
   "execution_count": 59,
   "id": "f527016b-2194-4495-9f7d-69702dd2a48b",
   "metadata": {},
   "outputs": [
    {
     "name": "stderr",
     "output_type": "stream",
     "text": [
      "<ipython-input-59-b3f8ee873e13>:3: ParserWarning: Falling back to the 'python' engine because the 'c' engine does not support regex separators (separators > 1 char and different from '\\s+' are interpreted as regex); you can avoid this warning by specifying engine='python'.\n",
      "  s_en = list(pd.read_csv('valid.en-zh.en.sgm', sep='</seg>').index[:-3])\n"
     ]
    }
   ],
   "source": [
    "import pandas as pd\n",
    "import re\n",
    "s_en = list(pd.read_csv('valid.en-zh.en.sgm', sep='</seg>').index[:-3])\n",
    "a_list = [re.findall(r'[>][^\\n]+', str)[0][2:] for str in s_en]\n",
    "textfile = open(\"valid_en-zh_en.txt\", \"w\", encoding=\"utf-8\")\n",
    "for element in a_list:\n",
    "    textfile.write(element + \"\\n\")"
   ]
  },
  {
   "cell_type": "code",
   "execution_count": 61,
   "id": "1fd5f33b-fba1-436b-a083-256f2881492d",
   "metadata": {},
   "outputs": [
    {
     "name": "stderr",
     "output_type": "stream",
     "text": [
      "<ipython-input-61-5ee4ee5c7a8d>:1: ParserWarning: Falling back to the 'python' engine because the 'c' engine does not support regex separators (separators > 1 char and different from '\\s+' are interpreted as regex); you can avoid this warning by specifying engine='python'.\n",
      "  s_en = list(pd.read_csv('valid.en-zh.zh.sgm', sep='</seg>').index[:-3])\n"
     ]
    }
   ],
   "source": [
    "s_en = list(pd.read_csv('valid.en-zh.zh.sgm', sep='</seg>').index[:-3])\n",
    "a_list = [re.findall(r'[>][^\\n]+', str)[0][2:] for str in s_en]\n",
    "textfile = open(\"valid_en-zh_zh.txt\", \"w\", encoding=\"utf-8\")\n",
    "for element in a_list:\n",
    "    textfile.write(element + \"\\n\")"
   ]
  },
  {
   "cell_type": "code",
   "execution_count": 5,
   "id": "d2bd7a44-710b-4fb6-ba42-bb5e1b8ab138",
   "metadata": {},
   "outputs": [],
   "source": [
    "import pandas as pd\n",
    "ss = pd.read_csv('data.csv')\n",
    "a_list = ss['english'].values\n",
    "textfile = open(\"valid_en-sp_en.txt\", \"w\", encoding=\"utf-8\")\n",
    "for element in a_list:\n",
    "    textfile.write(element + \"\\n\")"
   ]
  },
  {
   "cell_type": "code",
   "execution_count": 6,
   "id": "72fe054d-e3da-4f69-b204-1026315c1a18",
   "metadata": {},
   "outputs": [],
   "source": [
    "ss = pd.read_csv('data.csv')\n",
    "a_list = ss['spanish'].values\n",
    "textfile = open(\"valid_en-sp_sp.txt\", \"w\", encoding=\"utf-8\")\n",
    "for element in a_list:\n",
    "    textfile.write(element + \"\\n\")"
   ]
  },
  {
   "cell_type": "code",
   "execution_count": null,
   "id": "4aa475be-9ad9-4cac-8c70-abfc347675cd",
   "metadata": {},
   "outputs": [],
   "source": []
  }
 ],
 "metadata": {
  "kernelspec": {
   "display_name": "Python 3",
   "language": "python",
   "name": "python3"
  },
  "language_info": {
   "codemirror_mode": {
    "name": "ipython",
    "version": 3
   },
   "file_extension": ".py",
   "mimetype": "text/x-python",
   "name": "python",
   "nbconvert_exporter": "python",
   "pygments_lexer": "ipython3",
   "version": "3.8.8"
  }
 },
 "nbformat": 4,
 "nbformat_minor": 5
}
